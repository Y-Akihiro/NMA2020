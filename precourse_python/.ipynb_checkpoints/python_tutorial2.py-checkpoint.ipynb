{
 "cells": [
  {
   "cell_type": "markdown",
   "metadata": {},
   "source": [
    "# Tutorial 4. Repeating Actions with Loops"
   ]
  },
  {
   "cell_type": "code",
   "execution_count": 1,
   "metadata": {},
   "outputs": [
    {
     "name": "stdout",
     "output_type": "stream",
     "text": [
      "notweN\n"
     ]
    }
   ],
   "source": [
    "# Use for loop to reverse a string\n",
    "word = 'Newton'\n",
    "result = ''\n",
    "for i in word:\n",
    "    result = i + result\n",
    "\n",
    "print(result)"
   ]
  },
  {
   "cell_type": "code",
   "execution_count": 2,
   "metadata": {},
   "outputs": [
    {
     "name": "stdout",
     "output_type": "stream",
     "text": [
      "97\n"
     ]
    }
   ],
   "source": [
    "x = 5\n",
    "coeffs = [2,4,3]\n",
    "y = coeffs[0] * x **0 + coeffs[1]*x**1 + coeffs[2]*x**2\n",
    "print(y)"
   ]
  },
  {
   "cell_type": "code",
   "execution_count": 3,
   "metadata": {},
   "outputs": [
    {
     "name": "stdout",
     "output_type": "stream",
     "text": [
      "97\n"
     ]
    }
   ],
   "source": [
    "# Utilizing 'enumerate' function\n",
    "x = 5\n",
    "y = 0\n",
    "for idx, val in enumerate(coeffs):\n",
    "    y = y + val * x ** idx\n",
    "#     print('idx: ',idx)\n",
    "#     print('val: ',val)\n",
    "\n",
    "print(y)"
   ]
  },
  {
   "cell_type": "markdown",
   "metadata": {},
   "source": [
    "# Tutorial 5. Storing Multiple Values in Lists"
   ]
  },
  {
   "cell_type": "code",
   "execution_count": 4,
   "metadata": {},
   "outputs": [
    {
     "name": "stdout",
     "output_type": "stream",
     "text": [
      "[1, 3, 5, 7]\n",
      "[1, 3, 5, 7, 2]\n"
     ]
    }
   ],
   "source": [
    "odds = [1,3,5,7]\n",
    "primes = list(odds)\n",
    "primes.append(2)\n",
    "print(odds)\n",
    "print(primes)"
   ]
  },
  {
   "cell_type": "code",
   "execution_count": 5,
   "metadata": {},
   "outputs": [
    {
     "name": "stdout",
     "output_type": "stream",
     "text": [
      "['h', 'e', 'l', 'l', 'o']\n"
     ]
    }
   ],
   "source": [
    "my_list = []\n",
    "for i in 'hello':\n",
    "    my_list.append(i)\n",
    "print(my_list)"
   ]
  },
  {
   "cell_type": "code",
   "execution_count": 6,
   "metadata": {},
   "outputs": [
    {
     "data": {
      "text/plain": [
       "[['chlorine', 'Cl'], ['bromine', 'Br'], ['iodine', 'I'], ['astatine', 'At']]"
      ]
     },
     "execution_count": 6,
     "metadata": {},
     "output_type": "execute_result"
    }
   ],
   "source": [
    "string_for_slicing = \"Observation date: 02-Feb-2013\"\n",
    "list_for_slicing = [[\"fluorine\", \"F\"],\n",
    "                    [\"chlorine\", \"Cl\"],\n",
    "                    [\"bromine\", \"Br\"],\n",
    "                    [\"iodine\", \"I\"],\n",
    "                    [\"astatine\", \"At\"]]\n",
    "string_for_slicing[-4:]\n",
    "list_for_slicing[-4:]"
   ]
  },
  {
   "cell_type": "code",
   "execution_count": 7,
   "metadata": {},
   "outputs": [
    {
     "data": {
      "text/plain": [
       "'I notpssgre ntesae'"
      ]
     },
     "execution_count": 7,
     "metadata": {},
     "output_type": "execute_result"
    }
   ],
   "source": [
    "beatles = \"In an octopus's garden in the shade\"\n",
    "beatles[0:len(beatles):2]"
   ]
  },
  {
   "cell_type": "code",
   "execution_count": 8,
   "metadata": {},
   "outputs": [
    {
     "data": {
      "text/plain": [
       "'I notpssgre ntesae'"
      ]
     },
     "execution_count": 8,
     "metadata": {},
     "output_type": "execute_result"
    }
   ],
   "source": [
    "# shorter way\n",
    "beatles[::2]"
   ]
  },
  {
   "cell_type": "code",
   "execution_count": 9,
   "metadata": {},
   "outputs": [
    {
     "name": "stdout",
     "output_type": "stream",
     "text": [
      "[2, 4, 6, 8, 10, 2, 4, 6, 8, 10]\n"
     ]
    }
   ],
   "source": [
    "# The multiplication operator * used on a list replicates elements of the list and concatenates them\n",
    "counts = [2, 4, 6, 8, 10]\n",
    "repeats = counts * 2\n",
    "print(repeats)"
   ]
  },
  {
   "cell_type": "markdown",
   "metadata": {},
   "source": [
    "# Tutorial 6. Analyzing Data from Multiple Files"
   ]
  },
  {
   "cell_type": "markdown",
   "metadata": {},
   "source": [
    "https://swcarpentry.github.io/python-novice-inflammation/06-files/index.html"
   ]
  },
  {
   "cell_type": "code",
   "execution_count": 10,
   "metadata": {},
   "outputs": [
    {
     "name": "stdout",
     "output_type": "stream",
     "text": [
      "['swc-python\\\\data\\\\inflammation-01.csv', 'swc-python\\\\data\\\\inflammation-02.csv', 'swc-python\\\\data\\\\inflammation-03.csv', 'swc-python\\\\data\\\\inflammation-04.csv', 'swc-python\\\\data\\\\inflammation-05.csv', 'swc-python\\\\data\\\\inflammation-06.csv', 'swc-python\\\\data\\\\inflammation-07.csv', 'swc-python\\\\data\\\\inflammation-08.csv', 'swc-python\\\\data\\\\inflammation-09.csv', 'swc-python\\\\data\\\\inflammation-10.csv', 'swc-python\\\\data\\\\inflammation-11.csv', 'swc-python\\\\data\\\\inflammation-12.csv']\n"
     ]
    }
   ],
   "source": [
    "import glob\n",
    "print(sorted(glob.glob('**/*/inflammation*.csv')))"
   ]
  },
  {
   "cell_type": "code",
   "execution_count": 11,
   "metadata": {},
   "outputs": [
    {
     "data": {
      "text/plain": [
       "12"
      ]
     },
     "execution_count": 11,
     "metadata": {},
     "output_type": "execute_result"
    }
   ],
   "source": [
    "len(glob.glob('**/*/inflammation*.csv'))"
   ]
  },
  {
   "cell_type": "code",
   "execution_count": 12,
   "metadata": {},
   "outputs": [
    {
     "name": "stdout",
     "output_type": "stream",
     "text": [
      "swc-python\\data\\inflammation-01.csv\n"
     ]
    },
    {
     "data": {
      "image/png": "[encoded data removed]",
      "text/plain": [
       "<Figure size 720x216 with 3 Axes>"
      ]
     },
     "metadata": {
      "needs_background": "light"
     },
     "output_type": "display_data"
    },
    {
     "name": "stdout",
     "output_type": "stream",
     "text": [
      "swc-python\\data\\inflammation-02.csv\n"
     ]
    },
    {
     "data": {
      "image/png": "[encoded data removed]",
      "text/plain": [
       "<Figure size 720x216 with 3 Axes>"
      ]
     },
     "metadata": {
      "needs_background": "light"
     },
     "output_type": "display_data"
    },
    {
     "name": "stdout",
     "output_type": "stream",
     "text": [
      "swc-python\\data\\inflammation-03.csv\n"
     ]
    },
    {
     "data": {
      "image/png": "[encoded data removed]",
      "text/plain": [
       "<Figure size 720x216 with 3 Axes>"
      ]
     },
     "metadata": {
      "needs_background": "light"
     },
     "output_type": "display_data"
    }
   ],
   "source": [
    "import numpy as np\n",
    "import matplotlib.pyplot as plt\n",
    "filenames = sorted(glob.glob('**/*/inflammation*.csv'))\n",
    "filenames = filenames[:3]\n",
    "\n",
    "data_ave = []\n",
    "for filename in filenames:\n",
    "    print(filename)\n",
    "    data = np.loadtxt(fname=filename, delimiter=',')\n",
    "    fig = plt.figure(figsize=(10,3))\n",
    "    axes1 = fig.add_subplot(1, 3, 1)\n",
    "    axes2 = fig.add_subplot(1, 3, 2)\n",
    "    axes3 = fig.add_subplot(1, 3, 3)\n",
    "\n",
    "    axes1.set_ylabel('average')\n",
    "    axes1.plot(np.mean(data, axis=0))\n",
    "    data_ave.append(np.mean(data,axis=0))\n",
    "    \n",
    "    axes2.set_ylabel('max')\n",
    "    axes2.plot(np.max(data, axis=0))\n",
    "\n",
    "    axes3.set_ylabel('min')\n",
    "    axes3.plot(np.min(data, axis=0))\n",
    "\n",
    "    fig.tight_layout()\n",
    "    plt.show()"
   ]
  },
  {
   "cell_type": "code",
   "execution_count": 13,
   "metadata": {},
   "outputs": [
    {
     "data": {
      "image/png": "[encoded data removed]",
      "text/plain": [
       "<Figure size 432x288 with 1 Axes>"
      ]
     },
     "metadata": {
      "needs_background": "light"
     },
     "output_type": "display_data"
    }
   ],
   "source": [
    "fig = plt.figure()\n",
    "axes1 = fig.add_subplot(1, 1, 1)\n",
    "axes1.set_ylabel('difference in average')\n",
    "axes1.plot(np.abs(data_ave[1] - data_ave[2]))\n",
    "fig.tight_layout()\n",
    "plt.show()"
   ]
  },
  {
   "cell_type": "code",
   "execution_count": 14,
   "metadata": {},
   "outputs": [
    {
     "data": {
      "image/png": "[encoded data removed]",
      "text/plain": [
       "<Figure size 720x216 with 3 Axes>"
      ]
     },
     "metadata": {
      "needs_background": "light"
     },
     "output_type": "display_data"
    }
   ],
   "source": [
    "filenames = glob.glob('**/*/inflammation*.csv')\n",
    "composite_data = np.zeros((60,40))\n",
    "for filename in filenames:\n",
    "    # sum each new file's data into composite_data as it's read\n",
    "    data = np.loadtxt(fname=filename, delimiter=',')\n",
    "    composite_data = composite_data + data\n",
    "\n",
    "# and then divide the composite_data by number of samples\n",
    "composite_data = composite_data / len(filenames)\n",
    "\n",
    "fig = plt.figure(figsize=(10,3))\n",
    "axes1 = fig.add_subplot(1, 3, 1)\n",
    "axes2 = fig.add_subplot(1, 3, 2)\n",
    "axes3 = fig.add_subplot(1, 3, 3)\n",
    "\n",
    "axes1.set_ylabel('average')\n",
    "axes1.plot(np.mean(composite_data, axis=0))\n",
    "\n",
    "axes2.set_ylabel('max')\n",
    "axes2.plot(np.max(composite_data, axis=0))\n",
    "\n",
    "axes3.set_ylabel('min')\n",
    "axes3.plot(np.min(composite_data, axis=0))\n",
    "\n",
    "fig.tight_layout()\n",
    "plt.show()"
   ]
  },
  {
   "cell_type": "code",
   "execution_count": 15,
   "metadata": {},
   "outputs": [
    {
     "data": {
      "text/plain": [
       "(40,)"
      ]
     },
     "execution_count": 15,
     "metadata": {},
     "output_type": "execute_result"
    }
   ],
   "source": [
    "np.sum(composite_data,axis=0).shape"
   ]
  },
  {
   "cell_type": "markdown",
   "metadata": {},
   "source": [
    "# 7. Making Choices: conditional statements"
   ]
  },
  {
   "cell_type": "markdown",
   "metadata": {},
   "source": [
    "https://swcarpentry.github.io/python-novice-inflammation/07-cond/index.html"
   ]
  },
  {
   "cell_type": "code",
   "execution_count": 16,
   "metadata": {},
   "outputs": [
    {
     "name": "stdout",
     "output_type": "stream",
     "text": [
      "both parts are true\n"
     ]
    }
   ],
   "source": [
    "# I haven't used multiple conditions (with 'and' or 'or') in one if-statement:\n",
    "if (1>0) and (-(-1)>0):\n",
    "    print('both parts are true')\n",
    "else:\n",
    "    print('at least one part is false')"
   ]
  },
  {
   "cell_type": "code",
   "execution_count": 17,
   "metadata": {},
   "outputs": [
    {
     "name": "stdout",
     "output_type": "stream",
     "text": [
      "at least one part is true\n"
     ]
    }
   ],
   "source": [
    "if (1>0) or (-1>0):\n",
    "    print('at least one part is true')\n",
    "else:\n",
    "    print('both parts are false')"
   ]
  },
  {
   "cell_type": "code",
   "execution_count": 23,
   "metadata": {},
   "outputs": [
    {
     "name": "stdout",
     "output_type": "stream",
     "text": [
      "Suspicious looking maxima!\n"
     ]
    }
   ],
   "source": [
    "max_inflammation_0 = np.max(data, axis=0)[0]\n",
    "max_inflammation_20 = np.max(data, axis=0)[20]\n",
    "\n",
    "if max_inflammation_0 == 0 and max_inflammation_20 == 20:\n",
    "    print('Suspicious looking maxima!')\n",
    "\n",
    "# elif condition (else-if?)\n",
    "elif np.sum(np.min(data,axis=0)) == 0:\n",
    "    print('Minima add up to zero!')\n",
    "\n",
    "else: \n",
    "    print('Seems OK!')"
   ]
  },
  {
   "cell_type": "code",
   "execution_count": 19,
   "metadata": {},
   "outputs": [
    {
     "data": {
      "text/plain": [
       "20.0"
      ]
     },
     "execution_count": 19,
     "metadata": {},
     "output_type": "execute_result"
    }
   ],
   "source": [
    "max_inflammation_20"
   ]
  },
  {
   "cell_type": "code",
   "execution_count": 27,
   "metadata": {},
   "outputs": [
    {
     "data": {
      "text/plain": [
       "'swc-python\\\\data\\\\inflammation-03.csv'"
      ]
     },
     "execution_count": 27,
     "metadata": {},
     "output_type": "execute_result"
    }
   ],
   "source": [
    "filenames[2]"
   ]
  },
  {
   "cell_type": "code",
   "execution_count": 30,
   "metadata": {},
   "outputs": [
    {
     "name": "stdout",
     "output_type": "stream",
     "text": [
      "Minima add up to zero!\n"
     ]
    }
   ],
   "source": [
    "data = np.loadtxt(filenames[2], delimiter=',')\n",
    "max_inflammation_0 = np.max(data, axis=0)[0]\n",
    "max_inflammation_20 = np.max(data, axis=0)[20]\n",
    "\n",
    "if max_inflammation_0 == 0 and max_inflammation_20 == 20:\n",
    "    print('Suspicious looking maxima!')\n",
    "elif np.sum(np.min(data, axis=0)) == 0:\n",
    "    print('Minima add up to zero!')\n",
    "else:\n",
    "    print('Seems OK!')"
   ]
  },
  {
   "cell_type": "code",
   "execution_count": 31,
   "metadata": {},
   "outputs": [
    {
     "name": "stdout",
     "output_type": "stream",
     "text": [
      "word is true\n",
      "non-empty list is true\n",
      "one is true\n"
     ]
    }
   ],
   "source": [
    "# Interesting. Didn't know the truth values for different data types: \n",
    "if '':\n",
    "    print('empty string is true')\n",
    "if 'word':\n",
    "    print('word is true')\n",
    "if []:\n",
    "    print('empty list is true')\n",
    "if [1, 2, 3]:\n",
    "    print('non-empty list is true')\n",
    "if 0:\n",
    "    print('zero is true')\n",
    "if 1:\n",
    "    print('one is true')"
   ]
  },
  {
   "cell_type": "code",
   "execution_count": 32,
   "metadata": {},
   "outputs": [
    {
     "name": "stdout",
     "output_type": "stream",
     "text": [
      "empty string is not true\n",
      "not not True is true\n"
     ]
    }
   ],
   "source": [
    "if not '':\n",
    "    print('empty string is not true')\n",
    "if not 'word':\n",
    "    print('word is not true')\n",
    "if not not True:\n",
    "    print('not not True is true')"
   ]
  },
  {
   "cell_type": "code",
   "execution_count": 54,
   "metadata": {},
   "outputs": [
    {
     "name": "stdout",
     "output_type": "stream",
     "text": [
      "Negative a and b. true\n"
     ]
    }
   ],
   "source": [
    "# Close Enough (Quiz)\n",
    "a = -110\n",
    "b = -100\n",
    "if a <= b*1.1 and a >= b*.9:\n",
    "    print('True')\n",
    "elif a >= b*1.1 and a <= b*.9:\n",
    "    print('Negative a and b. true')\n",
    "else: \n",
    "    print('False')"
   ]
  },
  {
   "cell_type": "code",
   "execution_count": 58,
   "metadata": {},
   "outputs": [
    {
     "name": "stdout",
     "output_type": "stream",
     "text": [
      "False\n"
     ]
    }
   ],
   "source": [
    "# Solution. - This is shorter than my answer:\n",
    "# 1. \n",
    "a = -90\n",
    "b = -100\n",
    "if abs(a - b) < 0.1 * abs(b):\n",
    "    print('True')\n",
    "else:\n",
    "    print('False')"
   ]
  },
  {
   "cell_type": "code",
   "execution_count": 60,
   "metadata": {},
   "outputs": [
    {
     "name": "stdout",
     "output_type": "stream",
     "text": [
      "False\n"
     ]
    }
   ],
   "source": [
    "# Solution 2. Just print out the Boolean value\n",
    "print(abs(a - b) < 0.1 * abs(b))"
   ]
  },
  {
   "cell_type": "code",
   "execution_count": 64,
   "metadata": {},
   "outputs": [
    {
     "name": "stdout",
     "output_type": "stream",
     "text": [
      "-8.0\n"
     ]
    }
   ],
   "source": [
    "# In-place operators \n",
    "x = 1\n",
    "x +=1\n",
    "x *= 3\n",
    "x /=3\n",
    "x -= 10\n",
    "print(x)"
   ]
  },
  {
   "cell_type": "code",
   "execution_count": 67,
   "metadata": {},
   "outputs": [
    {
     "name": "stdout",
     "output_type": "stream",
     "text": [
      "positive sum =  21\n",
      "negative sum =  -14\n"
     ]
    }
   ],
   "source": [
    "# Quiz: In-Place Operators\n",
    "test_list = [3, 4, 6, 1, -1, -5, 0, 7, -8]\n",
    "pos = 0\n",
    "neg = 0\n",
    "for val in test_list: # Here, I omitted the condition for '0' - doesn't contribute to the sum anyway.\n",
    "    if val > 0:\n",
    "        pos += val\n",
    "    else:\n",
    "        neg += val\n",
    "#     elif val < 0:\n",
    "#         neg += val\n",
    "#     else:\n",
    "#         print('zero')\n",
    "print('positive sum = ',pos)\n",
    "print('negative sum = ',neg)\n",
    "\n",
    "# I could've also used 'pass' function as in the solution."
   ]
  },
  {
   "cell_type": "code",
   "execution_count": 70,
   "metadata": {},
   "outputs": [
    {
     "name": "stdout",
     "output_type": "stream",
     "text": [
      "pos:  21 , neg:  -14\n"
     ]
    }
   ],
   "source": [
    "# Example Solution: \n",
    "positive_sum = 0\n",
    "negative_sum = 0\n",
    "test_list = [3, 4, 6, 1, -1, -5, 0, 7, -8]\n",
    "for num in test_list:\n",
    "    if num > 0:\n",
    "        positive_sum += num\n",
    "    elif num == 0:\n",
    "        pass\n",
    "    else:\n",
    "        negative_sum += num\n",
    "print('pos: ', positive_sum, ', neg: ', negative_sum)"
   ]
  },
  {
   "cell_type": "code",
   "execution_count": 76,
   "metadata": {},
   "outputs": [
    {
     "name": "stdout",
     "output_type": "stream",
     "text": [
      "['swc-python\\\\data\\\\inflammation-01.csv', 'swc-python\\\\data\\\\inflammation-02.csv', 'swc-python\\\\data\\\\inflammation-03.csv', 'swc-python\\\\data\\\\inflammation-04.csv', 'swc-python\\\\data\\\\inflammation-05.csv', 'swc-python\\\\data\\\\inflammation-06.csv', 'swc-python\\\\data\\\\inflammation-07.csv', 'swc-python\\\\data\\\\inflammation-08.csv', 'swc-python\\\\data\\\\inflammation-09.csv', 'swc-python\\\\data\\\\inflammation-10.csv', 'swc-python\\\\data\\\\inflammation-11.csv', 'swc-python\\\\data\\\\inflammation-12.csv', 'swc-python\\\\data\\\\small-01.csv', 'swc-python\\\\data\\\\small-02.csv', 'swc-python\\\\data\\\\small-03.csv']\n"
     ]
    }
   ],
   "source": [
    "# Sorting a List Into Buckets\n",
    "all_fnames = sorted(glob.glob('**/*/*.csv'))\n",
    "print(all_fnames)"
   ]
  },
  {
   "cell_type": "code",
   "execution_count": 96,
   "metadata": {},
   "outputs": [],
   "source": [
    "fnames = ['inflammation-01.csv',\n",
    "         'myscript.py',\n",
    "         'inflammation-02.csv',\n",
    "         'small-01.csv',\n",
    "         'small-02.csv']\n",
    "large_files = []\n",
    "small_files = []\n",
    "other_files = []"
   ]
  },
  {
   "cell_type": "code",
   "execution_count": 97,
   "metadata": {},
   "outputs": [
    {
     "name": "stdout",
     "output_type": "stream",
     "text": [
      "large_files ['inflammation-01.csv', 'inflammation-02.csv']\n",
      "small_files ['small-01.csv', 'small-02.csv']\n",
      "other_files ['myscript.py']\n"
     ]
    }
   ],
   "source": [
    "# Quiz: Sorting a List Into Buckets\n",
    "# using 'append' is more straightforward.\n",
    "# using fname = [fname, fn] creates additional/extra list - better to avoid.\n",
    "\n",
    "for fn in fnames:\n",
    "    if fn.startswith('inflammation'):\n",
    "#         large_files = [large_files, fn]\n",
    "        large_files.append(fn)\n",
    "    elif fn.startswith('small'):\n",
    "        small_files.append(fn)\n",
    "    else:\n",
    "        other_files.append(fn)\n",
    "print('large_files', large_files)\n",
    "print('small_files', small_files)\n",
    "print('other_files', other_files)"
   ]
  },
  {
   "cell_type": "code",
   "execution_count": 102,
   "metadata": {},
   "outputs": [
    {
     "name": "stdout",
     "output_type": "stream",
     "text": [
      "number of vowels:  6\n"
     ]
    }
   ],
   "source": [
    "# Quiz: Counting Vowels\n",
    "string = 'this is a statement for counting vowel quiz.'\n",
    "\n",
    "nv = 0\n",
    "for ch in string:\n",
    "    if ch == 'a' or ch == 'i':\n",
    "        nv += 1\n",
    "    else: \n",
    "        pass\n",
    "print('number of vowels: ', nv)"
   ]
  },
  {
   "cell_type": "code",
   "execution_count": 103,
   "metadata": {},
   "outputs": [],
   "source": [
    "# my question: how to do multiple conditions? I can combine five statements with 'or', but it'll be long\n",
    "#  and I don't want to type it all out..."
   ]
  },
  {
   "cell_type": "code",
   "execution_count": 105,
   "metadata": {},
   "outputs": [
    {
     "name": "stdout",
     "output_type": "stream",
     "text": [
      "The number of vowels in this string is 14\n"
     ]
    }
   ],
   "source": [
    "# Solution: Counting Vowels: (Cool. I didn't know that I can use another character string in an if-statement.)\n",
    "vowels = 'aeiouAEIOU'\n",
    "sentence = 'this is a statement for counting vowel quiz.'\n",
    "count = 0\n",
    "for char in sentence:\n",
    "    if char in vowels:\n",
    "        count += 1\n",
    "\n",
    "print(\"The number of vowels in this string is \" + str(count))"
   ]
  },
  {
   "cell_type": "code",
   "execution_count": null,
   "metadata": {},
   "outputs": [],
   "source": []
  }
 ],
 "metadata": {
  "kernelspec": {
   "display_name": "Python 3",
   "language": "python",
   "name": "python3"
  },
  "language_info": {
   "codemirror_mode": {
    "name": "ipython",
    "version": 3
   },
   "file_extension": ".py",
   "mimetype": "text/x-python",
   "name": "python",
   "nbconvert_exporter": "python",
   "pygments_lexer": "ipython3",
   "version": "3.7.0"
  }
 },
 "nbformat": 4,
 "nbformat_minor": 2
}
