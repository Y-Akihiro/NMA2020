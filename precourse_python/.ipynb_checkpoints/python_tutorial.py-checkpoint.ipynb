{
 "cells": [
  {
   "cell_type": "code",
   "execution_count": 18,
   "metadata": {},
   "outputs": [],
   "source": [
    "# Import libraries\n",
    "import numpy as np\n",
    "import os\n",
    "from glob import glob"
   ]
  },
  {
   "cell_type": "code",
   "execution_count": 20,
   "metadata": {},
   "outputs": [
    {
     "name": "stdout",
     "output_type": "stream",
     "text": [
      "There are 15 files.\n"
     ]
    }
   ],
   "source": [
    "# Set directory and get filenames\n",
    "filename = glob('**/*/*.csv')\n",
    "print(\"There are \"+str(len(filename))+\" files.\")"
   ]
  },
  {
   "cell_type": "code",
   "execution_count": 21,
   "metadata": {},
   "outputs": [],
   "source": [
    "# basepath = 'swc-python/data'\n",
    "# for entry in os.listdir(basepath):\n",
    "#     if os.path.isfile(os.path.join(basepath, entry)):\n",
    "#         print(entry)\n",
    "fno = 1\n",
    "file = open(filename[fno], newline='')"
   ]
  },
  {
   "cell_type": "code",
   "execution_count": 23,
   "metadata": {},
   "outputs": [],
   "source": [
    "data = np.loadtxt(fname=filename[fno], delimiter=',')"
   ]
  },
  {
   "cell_type": "code",
   "execution_count": 24,
   "metadata": {},
   "outputs": [
    {
     "name": "stdout",
     "output_type": "stream",
     "text": [
      "[[0. 0. 0. ... 1. 1. 0.]\n",
      " [0. 0. 2. ... 0. 2. 1.]\n",
      " [0. 1. 2. ... 0. 2. 1.]\n",
      " ...\n",
      " [0. 0. 2. ... 0. 2. 0.]\n",
      " [0. 0. 0. ... 2. 2. 0.]\n",
      " [0. 1. 2. ... 3. 2. 0.]]\n"
     ]
    }
   ],
   "source": [
    "print(data)"
   ]
  }
 ],
 "metadata": {
  "kernelspec": {
   "display_name": "Python 3",
   "language": "python",
   "name": "python3"
  },
  "language_info": {
   "codemirror_mode": {
    "name": "ipython",
    "version": 3
   },
   "file_extension": ".py",
   "mimetype": "text/x-python",
   "name": "python",
   "nbconvert_exporter": "python",
   "pygments_lexer": "ipython3",
   "version": "3.7.0"
  }
 },
 "nbformat": 4,
 "nbformat_minor": 2
}
